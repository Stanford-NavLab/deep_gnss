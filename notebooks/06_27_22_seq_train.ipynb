{
 "cells": [
  {
   "cell_type": "code",
   "execution_count": 1,
   "id": "d7397158",
   "metadata": {},
   "outputs": [],
   "source": [
    "%load_ext autoreload\n",
    "%autoreload 2"
   ]
  },
  {
   "cell_type": "code",
   "execution_count": 2,
   "id": "9a3117a1",
   "metadata": {},
   "outputs": [
    {
     "name": "stderr",
     "output_type": "stream",
     "text": [
      "/home/groups/gracegao/conda_envs/deep_gnss/lib/python3.8/site-packages/xarray/backends/cfgrib_.py:27: UserWarning: Failed to load cfgrib - most likely there is a problem accessing the ecCodes library. Try `import cfgrib` to get the full error message\n",
      "  warnings.warn(\n"
     ]
    }
   ],
   "source": [
    "%matplotlib inline\n",
    "\n",
    "import sys, os, csv, datetime\n",
    "from typing import Dict\n",
    "parent_directory = os.path.split(os.getcwd())[0]\n",
    "src_directory = os.path.join(parent_directory, 'src')\n",
    "data_directory = os.path.join('/scratch/groups/gracegao', 'Google_GNSS_data')\n",
    "ephemeris_data_directory = os.path.join(data_directory, 'ephemeris')\n",
    "sys.path.insert(0, src_directory)\n",
    "from mpl_toolkits.mplot3d import Axes3D\n",
    "from sklearn.preprocessing import StandardScaler\n",
    "import matplotlib.pyplot as plt # plotting\n",
    "import numpy as np # linear algebra\n",
    "import pandas as pd # data processing, CSV file I/O (e.g. pd.read_csv)\n",
    "import torch\n",
    "from torch.utils.data import DataLoader\n",
    "import torch.nn.functional as F\n",
    "import torch.nn as nn\n",
    "from torch.utils.tensorboard import SummaryWriter\n",
    "import hydra\n",
    "from omegaconf import DictConfig, OmegaConf\n",
    "\n",
    "import xarray as xr"
   ]
  },
  {
   "cell_type": "code",
   "execution_count": 24,
   "id": "a1d49e37",
   "metadata": {},
   "outputs": [],
   "source": [
    "import gnss_lib.coordinates as coord\n",
    "import gnss_lib.sim_gnss as sg \n",
    "import gnss_lib.read_nmea as nmea\n",
    "import gnss_lib.utils as utils \n",
    "import gnss_lib.solve_pos as solve_pos\n",
    "\n",
    "from gnss_lib.constants import gpsconsts\n",
    "from gnss_lib.coordinates import ecef2geodetic\n",
    "\n",
    "from utils import *\n",
    "\n",
    "# from dataset.sim_dataset_seq import Sim_GNSS_Dataset_Seq\n",
    "from dataset.android_dataset_seq import Android_GNSS_Dataset_Seq\n",
    "from correction_network.set_transformer_reduction import *\n",
    "from correction_network.architectures import *"
   ]
  },
  {
   "cell_type": "code",
   "execution_count": 57,
   "id": "7b416d98",
   "metadata": {},
   "outputs": [],
   "source": [
    "from tqdm.notebook import tqdm"
   ]
  },
  {
   "cell_type": "code",
   "execution_count": 85,
   "id": "b3dc7e98",
   "metadata": {},
   "outputs": [],
   "source": [
    "data_config = {\n",
    "#     \"root\": os.path.join(data_directory, \"simulated_matlab_clockcorr_half_small_rebatched_bias_ctx\"),\n",
    "    \"root\": os.path.join(data_directory, \"android_small_rebatched_1\"),\n",
    "    \"measurement_dir\" : \"gnss_data\",\n",
    "    # \"initialization_dir\" : \"initialization_data\",\n",
    "    # \"info_path\": \"data_info.csv\",\n",
    "    \"max_open_files\": 10000,\n",
    "    \"guess_range\": [100]*3 + [1e-5]*5,\n",
    "    \"history\": 0,\n",
    "    \"seed\": 0\n",
    "        #TODO: Add all required parameters to the data_config file. Maybe set up data_config in train_conf.yaml?\n",
    "    }"
   ]
  },
  {
   "cell_type": "code",
   "execution_count": 86,
   "id": "739c9449",
   "metadata": {},
   "outputs": [
    {
     "name": "stdout",
     "output_type": "stream",
     "text": [
      "Creating coordinates...\n"
     ]
    },
    {
     "name": "stderr",
     "output_type": "stream",
     "text": [
      "100%|██████████| 3362/3362 [00:00<00:00, 287334.95it/s]\n"
     ]
    },
    {
     "name": "stdout",
     "output_type": "stream",
     "text": [
      "Saving filenames and indexing...\n"
     ]
    },
    {
     "name": "stderr",
     "output_type": "stream",
     "text": [
      "100%|██████████| 3362/3362 [00:01<00:00, 2359.76it/s]\n"
     ]
    }
   ],
   "source": [
    "# dataset = Sim_GNSS_Dataset_Seq(data_config, verbose=True)\n",
    "dataset = Android_GNSS_Dataset_Seq(data_config, verbose=True)"
   ]
  },
  {
   "cell_type": "code",
   "execution_count": 87,
   "id": "d05e0928",
   "metadata": {},
   "outputs": [
    {
     "name": "stdout",
     "output_type": "stream",
     "text": [
      "Creating train and val dataloaders\n"
     ]
    }
   ],
   "source": [
    "train_frac = 0.1\n",
    "val_frac = 0.1\n",
    "\n",
    "train_idx = [i for i in range(int(train_frac*len(dataset)))]\n",
    "val_idx = [i + train_idx[-1] + 1 for i in range(int(val_frac*len(dataset)))]\n",
    "# train_set, val_set = torch.utils.data.random_split(dataset, [int(train_frac*len(dataset)), len(dataset) - int(train_frac*len(dataset))])\n",
    "train_set = torch.utils.data.Subset(dataset, train_idx)\n",
    "val_set = torch.utils.data.Subset(dataset, val_idx)\n",
    "\n",
    "print(\"Creating train and val dataloaders\")\n",
    "dataloader = DataLoader(train_set, batch_size=8,\n",
    "                        shuffle=True, num_workers=0, collate_fn=collate_feat_sequential)\n",
    "val_loader = DataLoader(val_set, batch_size=1, \n",
    "                        shuffle=False, num_workers=0, collate_fn=collate_feat_sequential)"
   ]
  },
  {
   "cell_type": "code",
   "execution_count": 143,
   "id": "b9f9a1ef",
   "metadata": {},
   "outputs": [],
   "source": [
    "save_name = \"10_25_22_2321_settf_snap_android\"\n",
    "load_name = \"10_25_22_2321_settf_snap_android\"\n",
    "\n",
    "base_save_path = os.path.join(data_directory, \"weights\")\n",
    "base_samples_save_path = os.path.join(data_directory, \"samples\")\n",
    "save_path = os.path.join(base_save_path, save_name)\n",
    "load_path = os.path.join(base_save_path, load_name)"
   ]
  },
  {
   "cell_type": "code",
   "execution_count": 150,
   "id": "06903a04",
   "metadata": {},
   "outputs": [
    {
     "data": {
      "text/plain": [
       "LearnedEmbeddingsSnapshot(\n",
       "  (embedding): SetTransformerPointOutput(\n",
       "    (feat_in): Sequential(\n",
       "      (0): Linear(in_features=14, out_features=16, bias=True)\n",
       "      (1): LayerNorm((16,), eps=1e-05, elementwise_affine=True)\n",
       "    )\n",
       "    (enc_feat): Sequential(\n",
       "      (0): Linear(in_features=16, out_features=16, bias=True)\n",
       "      (1): LayerNorm((16,), eps=1e-05, elementwise_affine=True)\n",
       "      (2): Linear(in_features=16, out_features=16, bias=True)\n",
       "      (3): LayerNorm((16,), eps=1e-05, elementwise_affine=True)\n",
       "    )\n",
       "    (enc): TEB(\n",
       "      (enc): TransformerEncoder(\n",
       "        (layers): ModuleList(\n",
       "          (0): TransformerEncoderLayer(\n",
       "            (self_attn): MultiheadAttention(\n",
       "              (out_proj): NonDynamicallyQuantizableLinear(in_features=16, out_features=16, bias=True)\n",
       "            )\n",
       "            (linear1): Linear(in_features=16, out_features=32, bias=True)\n",
       "            (dropout): Dropout(p=0.0, inplace=False)\n",
       "            (linear2): Linear(in_features=32, out_features=16, bias=True)\n",
       "            (norm1): LayerNorm((16,), eps=1e-05, elementwise_affine=True)\n",
       "            (norm2): LayerNorm((16,), eps=1e-05, elementwise_affine=True)\n",
       "            (dropout1): Dropout(p=0.0, inplace=False)\n",
       "            (dropout2): Dropout(p=0.0, inplace=False)\n",
       "          )\n",
       "          (1): TransformerEncoderLayer(\n",
       "            (self_attn): MultiheadAttention(\n",
       "              (out_proj): NonDynamicallyQuantizableLinear(in_features=16, out_features=16, bias=True)\n",
       "            )\n",
       "            (linear1): Linear(in_features=16, out_features=32, bias=True)\n",
       "            (dropout): Dropout(p=0.0, inplace=False)\n",
       "            (linear2): Linear(in_features=32, out_features=16, bias=True)\n",
       "            (norm1): LayerNorm((16,), eps=1e-05, elementwise_affine=True)\n",
       "            (norm2): LayerNorm((16,), eps=1e-05, elementwise_affine=True)\n",
       "            (dropout1): Dropout(p=0.0, inplace=False)\n",
       "            (dropout2): Dropout(p=0.0, inplace=False)\n",
       "          )\n",
       "        )\n",
       "      )\n",
       "    )\n",
       "    (pool): PMA(\n",
       "      (mab): MultiheadAttention(\n",
       "        (out_proj): NonDynamicallyQuantizableLinear(in_features=16, out_features=16, bias=True)\n",
       "      )\n",
       "    )\n",
       "    (dec): TEB(\n",
       "      (enc): TransformerEncoder(\n",
       "        (layers): ModuleList(\n",
       "          (0): TransformerEncoderLayer(\n",
       "            (self_attn): MultiheadAttention(\n",
       "              (out_proj): NonDynamicallyQuantizableLinear(in_features=16, out_features=16, bias=True)\n",
       "            )\n",
       "            (linear1): Linear(in_features=16, out_features=32, bias=True)\n",
       "            (dropout): Dropout(p=0.0, inplace=False)\n",
       "            (linear2): Linear(in_features=32, out_features=16, bias=True)\n",
       "            (norm1): LayerNorm((16,), eps=1e-05, elementwise_affine=True)\n",
       "            (norm2): LayerNorm((16,), eps=1e-05, elementwise_affine=True)\n",
       "            (dropout1): Dropout(p=0.0, inplace=False)\n",
       "            (dropout2): Dropout(p=0.0, inplace=False)\n",
       "          )\n",
       "          (1): TransformerEncoderLayer(\n",
       "            (self_attn): MultiheadAttention(\n",
       "              (out_proj): NonDynamicallyQuantizableLinear(in_features=16, out_features=16, bias=True)\n",
       "            )\n",
       "            (linear1): Linear(in_features=16, out_features=32, bias=True)\n",
       "            (dropout): Dropout(p=0.0, inplace=False)\n",
       "            (linear2): Linear(in_features=32, out_features=16, bias=True)\n",
       "            (norm1): LayerNorm((16,), eps=1e-05, elementwise_affine=True)\n",
       "            (norm2): LayerNorm((16,), eps=1e-05, elementwise_affine=True)\n",
       "            (dropout1): Dropout(p=0.0, inplace=False)\n",
       "            (dropout2): Dropout(p=0.0, inplace=False)\n",
       "          )\n",
       "        )\n",
       "      )\n",
       "    )\n",
       "    (dec_feat): Sequential(\n",
       "      (0): Linear(in_features=16, out_features=16, bias=True)\n",
       "      (1): LayerNorm((16,), eps=1e-05, elementwise_affine=True)\n",
       "      (2): Linear(in_features=16, out_features=16, bias=True)\n",
       "      (3): LayerNorm((16,), eps=1e-05, elementwise_affine=True)\n",
       "    )\n",
       "    (feat_out): Sequential(\n",
       "      (0): Linear(in_features=16, out_features=16, bias=True)\n",
       "    )\n",
       "  )\n",
       "  (fc): Sequential(\n",
       "    (0): Linear(in_features=16, out_features=16, bias=True)\n",
       "    (1): ReLU()\n",
       "    (2): Linear(in_features=16, out_features=8, bias=True)\n",
       "    (3): ReLU()\n",
       "    (4): Linear(in_features=8, out_features=4, bias=True)\n",
       "  )\n",
       ")"
      ]
     },
     "execution_count": 150,
     "metadata": {},
     "output_type": "execute_result"
    }
   ],
   "source": [
    "# embedding = FullyConnectedNetwork(dim_input=14, max_sats=40, dim_output=16, batch_first=True)\n",
    "# embedding = LearnedWLSEmbeddings(output_dim=16, batch_first=True, output_residual=False)\n",
    "embedding = SetTransformerPointOutput(14, 1, 16, batch_first=True)\n",
    "# embedding = BasicLS(batch_first=True)\n",
    "\n",
    "# net = LearnedEmbeddingsRNN(embedding, batch_first=True, time_last=True)\n",
    "# net = LearnedEmbeddingsTransformer(embedding, batch_first=True, time_last=True, d_model=6, nhead=1, num_encoder_layers=4, num_decoder_layers=4, dim_feedforward=16)\n",
    "net = LearnedEmbeddingsSnapshot(embedding, batch_first=True, time_last=True)\n",
    "# net = LearnedEmbeddingsSnapshot(embedding, batch_first=True, time_last=True, apply_fc=False)\n",
    "\n",
    "net.cuda()"
   ]
  },
  {
   "cell_type": "code",
   "execution_count": 151,
   "id": "7791dd58",
   "metadata": {},
   "outputs": [
    {
     "data": {
      "text/plain": [
       "12204"
      ]
     },
     "execution_count": 151,
     "metadata": {},
     "output_type": "execute_result"
    }
   ],
   "source": [
    "def count_parameters(model):\n",
    "    return sum(p.numel() for p in model.parameters() if p.requires_grad)\n",
    "\n",
    "count_parameters(net)   # FC - 20949, WLS - 2021, SetTF - 11440"
   ]
  },
  {
   "cell_type": "code",
   "execution_count": 152,
   "id": "88f1e0c3",
   "metadata": {},
   "outputs": [],
   "source": [
    "optimizer = torch.optim.Adam(net.parameters(), 3e-4)\n",
    "loss_func = torch.nn.MSELoss(reduction='none')\n",
    "count = 0\n",
    "loss_arr = []"
   ]
  },
  {
   "cell_type": "code",
   "execution_count": 153,
   "id": "9030c35e",
   "metadata": {},
   "outputs": [],
   "source": [
    "# checkpoint = torch.load(load_path)\n",
    "# net.embedding.load_state_dict(checkpoint['embedding'])\n",
    "# # net.lstm.load_state_dict(checkpoint['lstm'])\n",
    "# # net.fc.load_state_dict(checkpoint['fc'])\n",
    "# # net.fc_dxt.load_state_dict(checkpoint['fc_dxt'])\n",
    "# net.load_state_dict(checkpoint['net'])\n",
    "# # optimizer.load_state_dict(checkpoint['optimizer'])"
   ]
  },
  {
   "cell_type": "code",
   "execution_count": 154,
   "id": "e2eac0ec",
   "metadata": {},
   "outputs": [],
   "source": [
    "# _sample_batched['sv_features'].shape, _sample_batched['true_corrections'].shape, _sample_batched['pose_features'].shape, _sample_batched['mask_times'].shape, pad_mask.shape, pred_correction.shape"
   ]
  },
  {
   "cell_type": "code",
   "execution_count": null,
   "id": "024aa8ae",
   "metadata": {
    "scrolled": true
   },
   "outputs": [
    {
     "data": {
      "application/vnd.jupyter.widget-view+json": {
       "model_id": "2a3a4e19b57d442d86e97225a694fe70",
       "version_major": 2,
       "version_minor": 0
      },
      "text/plain": [
       "epoch:   0%|          | 0/100 [00:00<?, ?it/s]"
      ]
     },
     "metadata": {},
     "output_type": "display_data"
    },
    {
     "data": {
      "application/vnd.jupyter.widget-view+json": {
       "model_id": "",
       "version_major": 2,
       "version_minor": 0
      },
      "text/plain": [
       "  0%|          | 0/42 [00:00<?, ?it/s]"
      ]
     },
     "metadata": {},
     "output_type": "display_data"
    },
    {
     "data": {
      "application/vnd.jupyter.widget-view+json": {
       "model_id": "",
       "version_major": 2,
       "version_minor": 0
      },
      "text/plain": [
       "  0%|          | 0/42 [00:00<?, ?it/s]"
      ]
     },
     "metadata": {},
     "output_type": "display_data"
    },
    {
     "data": {
      "application/vnd.jupyter.widget-view+json": {
       "model_id": "",
       "version_major": 2,
       "version_minor": 0
      },
      "text/plain": [
       "  0%|          | 0/42 [00:00<?, ?it/s]"
      ]
     },
     "metadata": {},
     "output_type": "display_data"
    },
    {
     "data": {
      "application/vnd.jupyter.widget-view+json": {
       "model_id": "",
       "version_major": 2,
       "version_minor": 0
      },
      "text/plain": [
       "  0%|          | 0/42 [00:00<?, ?it/s]"
      ]
     },
     "metadata": {},
     "output_type": "display_data"
    },
    {
     "data": {
      "application/vnd.jupyter.widget-view+json": {
       "model_id": "",
       "version_major": 2,
       "version_minor": 0
      },
      "text/plain": [
       "  0%|          | 0/42 [00:00<?, ?it/s]"
      ]
     },
     "metadata": {},
     "output_type": "display_data"
    },
    {
     "data": {
      "application/vnd.jupyter.widget-view+json": {
       "model_id": "",
       "version_major": 2,
       "version_minor": 0
      },
      "text/plain": [
       "  0%|          | 0/42 [00:00<?, ?it/s]"
      ]
     },
     "metadata": {},
     "output_type": "display_data"
    },
    {
     "data": {
      "application/vnd.jupyter.widget-view+json": {
       "model_id": "9342bda8776d4eff94074a489c601dbd",
       "version_major": 2,
       "version_minor": 0
      },
      "text/plain": [
       "  0%|          | 0/42 [00:00<?, ?it/s]"
      ]
     },
     "metadata": {},
     "output_type": "display_data"
    }
   ],
   "source": [
    "for epoch in tqdm(range(100), desc='epoch'):\n",
    "    # TRAIN Phase\n",
    "    net.train()\n",
    "    for i, sample_batched in enumerate(tqdm(dataloader, leave=False)):\n",
    "        _sample_batched, pad_mask = sample_batched\n",
    "\n",
    "#         x = _sample_batched['sv_features'][:, :, 0, :].float().cuda()\n",
    "#         y = _sample_batched['true_corrections'][:, :, 0].float().cuda()\n",
    "\n",
    "        x = _sample_batched['sv_features'].float().cuda()    # (B, SVs, timesteps, feat_dim)\n",
    "        y = _sample_batched['true_corrections'].float().cuda()       # (B, output_dim, timesteps)\n",
    "        dxt_feat = _sample_batched['pose_features'].float().cuda()    # (B, guess_pose_feat_dim, timesteps)\n",
    "        mask_times = _sample_batched['mask_times'].cuda()    # (B, timesteps)\n",
    "        \n",
    "#         pad_mask = pad_mask[:, :, 0].cuda()\n",
    "        pad_mask = pad_mask.cuda()   # (B, SVs, timesteps)\n",
    "        pred_correction = net(x, dxt_feat, pad_mask=pad_mask, mask_times=mask_times)    # (B, output_dim, timesteps)\n",
    "        \n",
    "        loss = loss_func(pred_correction, y)\n",
    "        loss = (loss * torch.unsqueeze(mask_times.float(), 1)).sum()\n",
    "        loss_arr.append(loss.item())\n",
    "\n",
    "        optimizer.zero_grad()   # clear gradients for next train\n",
    "        loss.backward()         # backpropagation, compute gradients\n",
    "        optimizer.step()        # apply gradients\n",
    "    # TEST Phase\n",
    "    net.eval()"
   ]
  },
  {
   "cell_type": "code",
   "execution_count": 170,
   "id": "a7ba6f20",
   "metadata": {},
   "outputs": [
    {
     "data": {
      "text/plain": [
       "[<matplotlib.lines.Line2D at 0x7f69b0692940>]"
      ]
     },
     "execution_count": 170,
     "metadata": {},
     "output_type": "execute_result"
    },
    {
     "data": {
      "image/png": "[encoded data removed]",
      "text/plain": [
       "<Figure size 432x288 with 1 Axes>"
      ]
     },
     "metadata": {
      "needs_background": "light"
     },
     "output_type": "display_data"
    }
   ],
   "source": [
    "T_start = 0\n",
    "loss_xr = xr.DataArray(loss_arr[T_start:])\n",
    "loss_xr.rolling(dim_0=50).mean().plot()"
   ]
  },
  {
   "cell_type": "code",
   "execution_count": 171,
   "id": "5a758856",
   "metadata": {},
   "outputs": [
    {
     "data": {
      "application/vnd.jupyter.widget-view+json": {
       "model_id": "70b763f9b1b54cdab731c07021b0d1f2",
       "version_major": 2,
       "version_minor": 0
      },
      "text/plain": [
       "val:   0%|          | 0/336 [00:00<?, ?it/s]"
      ]
     },
     "metadata": {},
     "output_type": "display_data"
    }
   ],
   "source": [
    "net.eval()\n",
    "T = data_config[\"history\"]+1\n",
    "out_pred = [[] for _ in range(T)]\n",
    "out_true = [[] for _ in range(T)]\n",
    "\n",
    "for i, sample_batched in enumerate(tqdm(val_loader, desc='val')):\n",
    "    _sample_batched, pad_mask = sample_batched\n",
    "\n",
    "    x = _sample_batched['sv_features'].float().cuda()\n",
    "    y = _sample_batched['true_corrections'].float().cuda()\n",
    "    dxt_feat = _sample_batched['pose_features'].float().cuda()\n",
    "    mask_times = _sample_batched['mask_times'].cuda()\n",
    "\n",
    "    pad_mask = pad_mask.cuda()\n",
    "    pred_correction = net(x, dxt_feat, pad_mask=pad_mask, mask_times=mask_times)\n",
    "\n",
    "    pred_correction = pred_correction.detach().cpu()\n",
    "    y = y.detach().cpu()\n",
    "    for t in range(T):\n",
    "        if mask_times[0, t]:\n",
    "            out_pred[t].append(pred_correction[0, :, t])\n",
    "            out_true[t].append(y[0, :, t])"
   ]
  },
  {
   "cell_type": "code",
   "execution_count": 172,
   "id": "e1114fe5",
   "metadata": {},
   "outputs": [],
   "source": [
    "out_pred = [torch.stack(_out_pred) for _out_pred in out_pred]\n",
    "out_true = [torch.stack(_out_true) for _out_true in out_true]\n",
    "sorted_idx = [[] for _ in range(T)]\n",
    "for t in range(T):\n",
    "    for i in range(4):\n",
    "        sorted_idx[t].append(torch.argsort(out_true[t][:, i]))"
   ]
  },
  {
   "cell_type": "code",
   "execution_count": 173,
   "id": "4b79bc01",
   "metadata": {
    "scrolled": false
   },
   "outputs": [
    {
     "data": {
      "text/plain": [
       "<matplotlib.legend.Legend at 0x7f69b07dcb80>"
      ]
     },
     "execution_count": 173,
     "metadata": {},
     "output_type": "execute_result"
    },
    {
     "data": {
      "image/png": "[encoded data removed]",
      "text/plain": [
       "<Figure size 432x288 with 1 Axes>"
      ]
     },
     "metadata": {
      "needs_background": "light"
     },
     "output_type": "display_data"
    },
    {
     "data": {
      "image/png": "[encoded data removed]",
      "text/plain": [
       "<Figure size 432x288 with 1 Axes>"
      ]
     },
     "metadata": {
      "needs_background": "light"
     },
     "output_type": "display_data"
    },
    {
     "data": {
      "image/png": "[encoded data removed]",
      "text/plain": [
       "<Figure size 432x288 with 1 Axes>"
      ]
     },
     "metadata": {
      "needs_background": "light"
     },
     "output_type": "display_data"
    },
    {
     "data": {
      "image/png": "[encoded data removed]",
      "text/plain": [
       "<Figure size 432x288 with 1 Axes>"
      ]
     },
     "metadata": {
      "needs_background": "light"
     },
     "output_type": "display_data"
    }
   ],
   "source": [
    "t = 0\n",
    "\n",
    "plt.figure()\n",
    "plt.plot(out_true[t][sorted_idx[t][0], 0], 'r--', label='gt x', alpha=0.5)\n",
    "plt.plot(out_pred[t][sorted_idx[t][0], 0], 'r', label='pred x', alpha=0.5)\n",
    "plt.legend()\n",
    "\n",
    "plt.figure()\n",
    "plt.plot(out_true[t][sorted_idx[t][1], 1], 'g--', label='gt y', alpha=0.5)\n",
    "plt.plot(out_pred[t][sorted_idx[t][1], 1], 'g', label='pred y', alpha=0.5)\n",
    "plt.legend()\n",
    "\n",
    "plt.figure()\n",
    "plt.plot(out_true[t][sorted_idx[t][2], 2], 'b--', label='gt z', alpha=0.5)\n",
    "plt.plot(out_pred[t][sorted_idx[t][2], 2], 'b', label='pred z', alpha=0.5)\n",
    "plt.legend()\n",
    "\n",
    "plt.figure()\n",
    "plt.plot(out_true[t][sorted_idx[t][3], 3], 'k--', label='gt dt', alpha=0.5)\n",
    "plt.plot(out_pred[t][sorted_idx[t][3], 3], 'k', label='pred dt', alpha=0.5)\n",
    "plt.legend()"
   ]
  },
  {
   "cell_type": "code",
   "execution_count": 140,
   "id": "90d8f3ce",
   "metadata": {},
   "outputs": [],
   "source": [
    "hist_diff = [np.abs((out_true[t]-out_pred[t]).numpy()) for t in range(T)]"
   ]
  },
  {
   "cell_type": "code",
   "execution_count": 141,
   "id": "f188112f",
   "metadata": {
    "scrolled": false
   },
   "outputs": [],
   "source": [
    "# np.save(os.path.join(base_samples_save_path, \"9_15_hdls_seq_l0\"), hist_diff[0])\n",
    "# np.save(os.path.join(base_samples_save_path, \"9_15_hdls_seq_l1\"), hist_diff[1])\n",
    "# np.save(os.path.join(base_samples_save_path, \"9_15_hdls_seq_l2\"), hist_diff[2])\n",
    "# np.save(os.path.join(base_samples_save_path, \"9_15_hdls_seq_l3\"), hist_diff[3])\n",
    "# np.save(os.path.join(base_samples_save_path, \"9_15_hdls_seq_l4\"), hist_diff[4])\n",
    "# np.save(os.path.join(base_samples_save_path, \"9_15_hdls_seq_l5\"), hist_diff[5])\n",
    "np.save(os.path.join(base_samples_save_path, \"10_26_fc\"), hist_diff[0])"
   ]
  },
  {
   "cell_type": "code",
   "execution_count": 115,
   "id": "5e8b41b7",
   "metadata": {},
   "outputs": [],
   "source": [
    "# fig, (ax1, ax2, ax3, ax4) = plt.subplots(4, figsize=(10, 15))\n",
    "# ax1.set_yscale('log')\n",
    "# ax2.set_yscale('log')\n",
    "# ax3.set_yscale('log')\n",
    "# ax4.set_yscale('log')"
   ]
  },
  {
   "cell_type": "code",
   "execution_count": 112,
   "id": "ccc423a4",
   "metadata": {},
   "outputs": [
    {
     "data": {
      "text/plain": [
       "<matplotlib.legend.Legend at 0x7f6950093190>"
      ]
     },
     "execution_count": 112,
     "metadata": {},
     "output_type": "execute_result"
    }
   ],
   "source": [
    "t=0\n",
    "\n",
    "# hist_diff = hist_diff_1\n",
    "# name = \"Fully Connected\"\n",
    "# color = plt.cm.hsv(0.9)\n",
    "\n",
    "# hist_diff = hist_diff_2\n",
    "# name = \"High-dim LS\"\n",
    "# color = plt.cm.hsv(0)\n",
    "\n",
    "# hist_diff = hist_diff_3\n",
    "name = \"Set Transformer\"\n",
    "color = plt.cm.hsv(0.2)\n",
    "\n",
    "# hist_diff = hist_diff_4\n",
    "# t=5\n",
    "# name = \"High-dim LS w/ LSTM t+\"+str(t)\n",
    "# color = plt.cm.Blues((t+1)/6)\n",
    "\n",
    "ax1.hist(hist_diff[t][:, 0], density=True, cumulative=True,\n",
    "         histtype='step', bins=1000, alpha=0.5, label=name+\" x\", color=color)\n",
    "ax1.legend()\n",
    "\n",
    "ax2.hist(hist_diff[t][:, 1], density=True, cumulative=True,\n",
    "         histtype='step', bins=1000, alpha=0.5, label=name+\" y\", color=color)\n",
    "ax2.legend()\n",
    "\n",
    "ax3.hist(hist_diff[t][:, 2], density=True, cumulative=True,\n",
    "         histtype='step', bins=1000, alpha=0.5, label=name+\" z\", color=color)\n",
    "ax3.legend()\n",
    "\n",
    "ax4.hist(hist_diff[t][:, 3], density=True, cumulative=True,\n",
    "         histtype='step', bins=1000, alpha=0.5, label=name+\" cdt\", color=color)\n",
    "ax4.legend()"
   ]
  },
  {
   "cell_type": "code",
   "execution_count": 114,
   "id": "c1a63b6a",
   "metadata": {},
   "outputs": [],
   "source": [
    "# fig"
   ]
  },
  {
   "cell_type": "code",
   "execution_count": 452,
   "id": "5890781a",
   "metadata": {},
   "outputs": [],
   "source": [
    "# hist_diff_1 = hist_diff   # FC snapshot\n",
    "# hist_diff_2 = hist_diff   # HDLS snapshot\n",
    "# hist_diff_3 = hist_diff   # SetTF snapshot\n",
    "# hist_diff_4 = hist_diff   # HDLS-LSTM"
   ]
  },
  {
   "cell_type": "code",
   "execution_count": 142,
   "id": "22b180a9",
   "metadata": {},
   "outputs": [],
   "source": [
    "checkpoint = {\n",
    "    'embedding': net.embedding.state_dict(),\n",
    "#     'lstm': net.lstm.state_dict(),\n",
    "#     'transformer': net.transformer.state_dict(),\n",
    "    'fc': net.fc.state_dict(),\n",
    "#     'fc_dxt': net.fc_dxt.state_dict(),\n",
    "    'net': net.state_dict(),\n",
    "    'optimizer': optimizer.state_dict(),\n",
    "    'loss': loss_xr,\n",
    "}\n",
    "\n",
    "torch.save(checkpoint, save_path)"
   ]
  },
  {
   "cell_type": "code",
   "execution_count": null,
   "id": "e66b5f2e",
   "metadata": {},
   "outputs": [],
   "source": []
  }
 ],
 "metadata": {
  "kernelspec": {
   "display_name": "Python 3",
   "language": "python",
   "name": "python3"
  },
  "language_info": {
   "codemirror_mode": {
    "name": "ipython",
    "version": 3
   },
   "file_extension": ".py",
   "mimetype": "text/x-python",
   "name": "python",
   "nbconvert_exporter": "python",
   "pygments_lexer": "ipython3",
   "version": "3.8.10"
  }
 },
 "nbformat": 4,
 "nbformat_minor": 5
}
